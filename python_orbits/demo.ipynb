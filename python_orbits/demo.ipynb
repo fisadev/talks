{
 "cells": [
  {
   "cell_type": "code",
   "execution_count": null,
   "id": "36b95cc9-51d7-42fb-a982-3454c7846d25",
   "metadata": {},
   "outputs": [],
   "source": [
    "!pip install orbit-predictor simplestmaps"
   ]
  },
  {
   "cell_type": "code",
   "execution_count": 1,
   "id": "ed2226f0-0327-42a4-9c59-9e7b834a76a2",
   "metadata": {},
   "outputs": [],
   "source": [
    "\n",
    "\n",
    "from datetime import datetime, timedelta\n",
    "\n",
    "from orbit_predictor.locations import Location\n",
    "from orbit_predictor.sources import get_predictor_from_tle_lines\n",
    "\n",
    "from simplestmaps import draw_map, line, dot"
   ]
  },
  {
   "cell_type": "code",
   "execution_count": 2,
   "id": "db19c00d-8044-49a5-b5d6-4871cc9ad051",
   "metadata": {},
   "outputs": [],
   "source": [
    "\n",
    "\n",
    "# https://celestrak.org/NORAD/elements/gp.php?GROUP=active&FORMAT=tle\n",
    "tle = (\n",
    "    \"1 42760U 17034C   24279.52731768  .00060201  00000+0  15182-2 0  9994\",\n",
    "    \"2 42760  43.0068 302.1721 0015002  39.0551 321.1385 15.38923320404545\"\n",
    ")\n",
    "\n",
    "predictor = get_predictor_from_tle_lines(tle)"
   ]
  },
  {
   "cell_type": "code",
   "execution_count": 3,
   "id": "b77e15b9-2ad4-4277-abea-12dc0ca43135",
   "metadata": {},
   "outputs": [
    {
     "data": {
      "text/plain": [
       "(-19.27409426950051, -50.43611068503529, 463.56842254781805)"
      ]
     },
     "execution_count": 3,
     "metadata": {},
     "output_type": "execute_result"
    }
   ],
   "source": [
    "\n",
    "\n",
    "fecha = datetime(2024, 10, 5, 12, 0, 0)\n",
    "posicion_sate = predictor.get_position(fecha)\n",
    "\n",
    "posicion_sate.position_llh"
   ]
  },
  {
   "cell_type": "code",
   "execution_count": 4,
   "id": "c2c9b619-2b98-4ee4-a833-1cdce9f13438",
   "metadata": {},
   "outputs": [
    {
     "data": {
      "text/html": [
       "<div style=\"width:100%;\"><div style=\"position:relative;width:100%;height:0;padding-bottom:60%;\"><span style=\"color:#565656\">Make this Notebook Trusted to load map: File -> Trust Notebook</span><iframe srcdoc=\"&lt;!DOCTYPE html&gt;\n",
       "&lt;html&gt;\n",
       "&lt;head&gt;\n",
       "    \n",
       "    &lt;meta http-equiv=&quot;content-type&quot; content=&quot;text/html; charset=UTF-8&quot; /&gt;\n",
       "    \n",
       "        &lt;script&gt;\n",
       "            L_NO_TOUCH = false;\n",
       "            L_DISABLE_3D = false;\n",
       "        &lt;/script&gt;\n",
       "    \n",
       "    &lt;style&gt;html, body {width: 100%;height: 100%;margin: 0;padding: 0;}&lt;/style&gt;\n",
       "    &lt;style&gt;#map {position:absolute;top:0;bottom:0;right:0;left:0;}&lt;/style&gt;\n",
       "    &lt;script src=&quot;https://cdn.jsdelivr.net/npm/leaflet@1.9.3/dist/leaflet.js&quot;&gt;&lt;/script&gt;\n",
       "    &lt;script src=&quot;https://code.jquery.com/jquery-3.7.1.min.js&quot;&gt;&lt;/script&gt;\n",
       "    &lt;script src=&quot;https://cdn.jsdelivr.net/npm/bootstrap@5.2.2/dist/js/bootstrap.bundle.min.js&quot;&gt;&lt;/script&gt;\n",
       "    &lt;script src=&quot;https://cdnjs.cloudflare.com/ajax/libs/Leaflet.awesome-markers/2.0.2/leaflet.awesome-markers.js&quot;&gt;&lt;/script&gt;\n",
       "    &lt;link rel=&quot;stylesheet&quot; href=&quot;https://cdn.jsdelivr.net/npm/leaflet@1.9.3/dist/leaflet.css&quot;/&gt;\n",
       "    &lt;link rel=&quot;stylesheet&quot; href=&quot;https://cdn.jsdelivr.net/npm/bootstrap@5.2.2/dist/css/bootstrap.min.css&quot;/&gt;\n",
       "    &lt;link rel=&quot;stylesheet&quot; href=&quot;https://netdna.bootstrapcdn.com/bootstrap/3.0.0/css/bootstrap-glyphicons.css&quot;/&gt;\n",
       "    &lt;link rel=&quot;stylesheet&quot; href=&quot;https://cdn.jsdelivr.net/npm/@fortawesome/fontawesome-free@6.2.0/css/all.min.css&quot;/&gt;\n",
       "    &lt;link rel=&quot;stylesheet&quot; href=&quot;https://cdnjs.cloudflare.com/ajax/libs/Leaflet.awesome-markers/2.0.2/leaflet.awesome-markers.css&quot;/&gt;\n",
       "    &lt;link rel=&quot;stylesheet&quot; href=&quot;https://cdn.jsdelivr.net/gh/python-visualization/folium/folium/templates/leaflet.awesome.rotate.min.css&quot;/&gt;\n",
       "    \n",
       "            &lt;meta name=&quot;viewport&quot; content=&quot;width=device-width,\n",
       "                initial-scale=1.0, maximum-scale=1.0, user-scalable=no&quot; /&gt;\n",
       "            &lt;style&gt;\n",
       "                #map_3bff29460eed7d2bb77a5dec83b5b879 {\n",
       "                    position: relative;\n",
       "                    width: 100.0%;\n",
       "                    height: 100.0%;\n",
       "                    left: 0.0%;\n",
       "                    top: 0.0%;\n",
       "                }\n",
       "                .leaflet-container { font-size: 1rem; }\n",
       "            &lt;/style&gt;\n",
       "        \n",
       "&lt;/head&gt;\n",
       "&lt;body&gt;\n",
       "    \n",
       "    \n",
       "            &lt;div class=&quot;folium-map&quot; id=&quot;map_3bff29460eed7d2bb77a5dec83b5b879&quot; &gt;&lt;/div&gt;\n",
       "        \n",
       "&lt;/body&gt;\n",
       "&lt;script&gt;\n",
       "    \n",
       "    \n",
       "            var map_3bff29460eed7d2bb77a5dec83b5b879 = L.map(\n",
       "                &quot;map_3bff29460eed7d2bb77a5dec83b5b879&quot;,\n",
       "                {\n",
       "                    center: [0.0, 0.0],\n",
       "                    crs: L.CRS.EPSG3857,\n",
       "                    zoom: 1.5,\n",
       "                    zoomControl: true,\n",
       "                    preferCanvas: false,\n",
       "                }\n",
       "            );\n",
       "\n",
       "            \n",
       "\n",
       "        \n",
       "    \n",
       "            var tile_layer_d5e305546193f3a5e784c3cca8885f02 = L.tileLayer(\n",
       "                &quot;https://{s}.basemaps.cartocdn.com/light_all/{z}/{x}/{y}{r}.png&quot;,\n",
       "                {&quot;attribution&quot;: &quot;.&quot;, &quot;detectRetina&quot;: false, &quot;maxNativeZoom&quot;: 20, &quot;maxZoom&quot;: 20, &quot;minZoom&quot;: 0, &quot;noWrap&quot;: false, &quot;opacity&quot;: 1, &quot;subdomains&quot;: &quot;abcd&quot;, &quot;tms&quot;: false}\n",
       "            );\n",
       "        \n",
       "    \n",
       "            tile_layer_d5e305546193f3a5e784c3cca8885f02.addTo(map_3bff29460eed7d2bb77a5dec83b5b879);\n",
       "        \n",
       "    \n",
       "            var circle_marker_42f1e2399a06c2ee32be17227fcc5881 = L.circleMarker(\n",
       "                [-19.27409426950051, -50.43611068503529],\n",
       "                {&quot;bubblingMouseEvents&quot;: true, &quot;color&quot;: &quot;green&quot;, &quot;dashArray&quot;: null, &quot;dashOffset&quot;: null, &quot;fill&quot;: true, &quot;fillColor&quot;: &quot;green&quot;, &quot;fillOpacity&quot;: 1, &quot;fillRule&quot;: &quot;evenodd&quot;, &quot;lineCap&quot;: &quot;round&quot;, &quot;lineJoin&quot;: &quot;round&quot;, &quot;opacity&quot;: 1.0, &quot;radius&quot;: 7, &quot;stroke&quot;: true, &quot;weight&quot;: 0}\n",
       "            ).addTo(map_3bff29460eed7d2bb77a5dec83b5b879);\n",
       "        \n",
       "&lt;/script&gt;\n",
       "&lt;/html&gt;\" style=\"position:absolute;width:100%;height:100%;left:0;top:0;border:none !important;\" allowfullscreen webkitallowfullscreen mozallowfullscreen></iframe></div></div>"
      ],
      "text/plain": [
       "<folium.folium.Map at 0x74e6d1579250>"
      ]
     },
     "execution_count": 4,
     "metadata": {},
     "output_type": "execute_result"
    }
   ],
   "source": [
    "\n",
    "draw_map(\n",
    "    dot(posicion_sate, color=\"green\", radius=7),\n",
    ")"
   ]
  },
  {
   "cell_type": "code",
   "execution_count": 5,
   "id": "61a64c6c-7959-4efa-b201-2e58b5674370",
   "metadata": {},
   "outputs": [
    {
     "data": {
      "text/html": [
       "<div style=\"width:100%;\"><div style=\"position:relative;width:100%;height:0;padding-bottom:60%;\"><span style=\"color:#565656\">Make this Notebook Trusted to load map: File -> Trust Notebook</span><iframe srcdoc=\"&lt;!DOCTYPE html&gt;\n",
       "&lt;html&gt;\n",
       "&lt;head&gt;\n",
       "    \n",
       "    &lt;meta http-equiv=&quot;content-type&quot; content=&quot;text/html; charset=UTF-8&quot; /&gt;\n",
       "    \n",
       "        &lt;script&gt;\n",
       "            L_NO_TOUCH = false;\n",
       "            L_DISABLE_3D = false;\n",
       "        &lt;/script&gt;\n",
       "    \n",
       "    &lt;style&gt;html, body {width: 100%;height: 100%;margin: 0;padding: 0;}&lt;/style&gt;\n",
       "    &lt;style&gt;#map {position:absolute;top:0;bottom:0;right:0;left:0;}&lt;/style&gt;\n",
       "    &lt;script src=&quot;https://cdn.jsdelivr.net/npm/leaflet@1.9.3/dist/leaflet.js&quot;&gt;&lt;/script&gt;\n",
       "    &lt;script src=&quot;https://code.jquery.com/jquery-3.7.1.min.js&quot;&gt;&lt;/script&gt;\n",
       "    &lt;script src=&quot;https://cdn.jsdelivr.net/npm/bootstrap@5.2.2/dist/js/bootstrap.bundle.min.js&quot;&gt;&lt;/script&gt;\n",
       "    &lt;script src=&quot;https://cdnjs.cloudflare.com/ajax/libs/Leaflet.awesome-markers/2.0.2/leaflet.awesome-markers.js&quot;&gt;&lt;/script&gt;\n",
       "    &lt;link rel=&quot;stylesheet&quot; href=&quot;https://cdn.jsdelivr.net/npm/leaflet@1.9.3/dist/leaflet.css&quot;/&gt;\n",
       "    &lt;link rel=&quot;stylesheet&quot; href=&quot;https://cdn.jsdelivr.net/npm/bootstrap@5.2.2/dist/css/bootstrap.min.css&quot;/&gt;\n",
       "    &lt;link rel=&quot;stylesheet&quot; href=&quot;https://netdna.bootstrapcdn.com/bootstrap/3.0.0/css/bootstrap-glyphicons.css&quot;/&gt;\n",
       "    &lt;link rel=&quot;stylesheet&quot; href=&quot;https://cdn.jsdelivr.net/npm/@fortawesome/fontawesome-free@6.2.0/css/all.min.css&quot;/&gt;\n",
       "    &lt;link rel=&quot;stylesheet&quot; href=&quot;https://cdnjs.cloudflare.com/ajax/libs/Leaflet.awesome-markers/2.0.2/leaflet.awesome-markers.css&quot;/&gt;\n",
       "    &lt;link rel=&quot;stylesheet&quot; href=&quot;https://cdn.jsdelivr.net/gh/python-visualization/folium/folium/templates/leaflet.awesome.rotate.min.css&quot;/&gt;\n",
       "    \n",
       "            &lt;meta name=&quot;viewport&quot; content=&quot;width=device-width,\n",
       "                initial-scale=1.0, maximum-scale=1.0, user-scalable=no&quot; /&gt;\n",
       "            &lt;style&gt;\n",
       "                #map_9faa9b29048a4cef30a6bae8a0249ea6 {\n",
       "                    position: relative;\n",
       "                    width: 100.0%;\n",
       "                    height: 100.0%;\n",
       "                    left: 0.0%;\n",
       "                    top: 0.0%;\n",
       "                }\n",
       "                .leaflet-container { font-size: 1rem; }\n",
       "            &lt;/style&gt;\n",
       "        \n",
       "&lt;/head&gt;\n",
       "&lt;body&gt;\n",
       "    \n",
       "    \n",
       "            &lt;div class=&quot;folium-map&quot; id=&quot;map_9faa9b29048a4cef30a6bae8a0249ea6&quot; &gt;&lt;/div&gt;\n",
       "        \n",
       "&lt;/body&gt;\n",
       "&lt;script&gt;\n",
       "    \n",
       "    \n",
       "            var map_9faa9b29048a4cef30a6bae8a0249ea6 = L.map(\n",
       "                &quot;map_9faa9b29048a4cef30a6bae8a0249ea6&quot;,\n",
       "                {\n",
       "                    center: [0.0, 0.0],\n",
       "                    crs: L.CRS.EPSG3857,\n",
       "                    zoom: 1.5,\n",
       "                    zoomControl: true,\n",
       "                    preferCanvas: false,\n",
       "                }\n",
       "            );\n",
       "\n",
       "            \n",
       "\n",
       "        \n",
       "    \n",
       "            var tile_layer_02294838bf749e443992575dae02aeaa = L.tileLayer(\n",
       "                &quot;https://{s}.basemaps.cartocdn.com/light_all/{z}/{x}/{y}{r}.png&quot;,\n",
       "                {&quot;attribution&quot;: &quot;.&quot;, &quot;detectRetina&quot;: false, &quot;maxNativeZoom&quot;: 20, &quot;maxZoom&quot;: 20, &quot;minZoom&quot;: 0, &quot;noWrap&quot;: false, &quot;opacity&quot;: 1, &quot;subdomains&quot;: &quot;abcd&quot;, &quot;tms&quot;: false}\n",
       "            );\n",
       "        \n",
       "    \n",
       "            tile_layer_02294838bf749e443992575dae02aeaa.addTo(map_9faa9b29048a4cef30a6bae8a0249ea6);\n",
       "        \n",
       "    \n",
       "            var poly_line_7b64c91e75c23cd9c0e79910299eb8a2 = L.polyline(\n",
       "                [[19.33604307245465, -90.47606236494374], [16.863541700824886, -87.61652123429289], [14.34517455876432, -84.83802389692535], [11.78911551589204, -82.12744779714536], [9.203020195356448, -79.47200107166383], [6.5941236985118605, -76.85920870050556], [3.9693356429053077, -74.27686974524012], [1.3353322993371128, -71.7129950434898], [-1.3013537697939395, -69.15573247948905], [-3.9342457840669782, -66.59328545227028], [-6.556835535468213, -64.01382939637678], [-9.162495835382805, -61.40542973627486], [-11.744391623719823, -58.7559684051588], [-14.295388951286283, -56.05308103687229], [-16.807961421177662, -53.28411420847143], [-19.27409426950051, -50.43611068503529], [-21.685187152527796, -47.49583446951745], [-24.031957977658156, -44.44985053317824], [-26.30435187061444, -41.28467770671935], [-28.491461701579443, -37.987036538266366], [-30.58146953696053, -34.54421613063046], [-32.5616218578856, -30.944583543667683], [-34.41825508125475, -27.1782524721227], [-36.13689116701169, -23.237917727226648], [-37.702424742912875, -19.11983144278175], [-39.09942157167176, -14.824865457483705], [-40.31254135629599, -10.359552721025542], [-41.32708417410884, -5.736951003551005], [-42.12963894355414, -0.9771345293107883], [-42.708786580167136, 3.8928835643179682], [-43.05578559231868, 8.839942943788055], [-43.165152167189355, 13.826274275891311], [-43.035048513922355, 18.811662228476735], [-42.667416250321295, 23.755962689429452], [-42.06783226290515, 28.62160804212383], [-41.245111748814026, 33.37574298081526], [-40.21072314032614, 37.99172383945947], [-38.97810161985177, 42.44986964915866], [-37.56194868128199, 46.737504530468556], [-35.977588873678854, 50.848440828511414], [-34.240429779134864, 54.7821011976297], [-32.365545700050916, 58.54247268524468], [-30.367384993463588, 62.13704712146423], [-28.25958765380621, 65.57585117227576], [-26.054893215371024, 68.87062162921413], [-23.76511763087502, 72.03414602186925], [-21.401179530583157, 75.0797609964122], [-18.9731595439656, 78.02099364963601], [-16.490380050421045, 80.87131971229063], [-13.961496170275245, 83.64401566544971], [-11.39459171615682, 86.35208294824093], [-8.797276122207291, 89.00822597647625], [-6.176780096058516, 91.62486925519522], [-3.5400489869597114, 94.21420208042454], [-0.8938337331717439, 96.78824195973705], [1.7552201677008263, 99.35890973523446], [4.400484860145175, 101.93811192562623], [7.0352625074839406, 104.53782302969142], [9.652696800004737, 107.17016657391729], [12.245682641280244, 109.8474873914281]],\n",
       "                {&quot;bubblingMouseEvents&quot;: true, &quot;color&quot;: &quot;green&quot;, &quot;dashArray&quot;: null, &quot;dashOffset&quot;: null, &quot;fill&quot;: false, &quot;fillColor&quot;: &quot;green&quot;, &quot;fillOpacity&quot;: 0.2, &quot;fillRule&quot;: &quot;evenodd&quot;, &quot;lineCap&quot;: &quot;round&quot;, &quot;lineJoin&quot;: &quot;round&quot;, &quot;noClip&quot;: false, &quot;opacity&quot;: 1, &quot;smoothFactor&quot;: 1.0, &quot;stroke&quot;: true, &quot;weight&quot;: 3}\n",
       "            ).addTo(map_9faa9b29048a4cef30a6bae8a0249ea6);\n",
       "        \n",
       "&lt;/script&gt;\n",
       "&lt;/html&gt;\" style=\"position:absolute;width:100%;height:100%;left:0;top:0;border:none !important;\" allowfullscreen webkitallowfullscreen mozallowfullscreen></iframe></div></div>"
      ],
      "text/plain": [
       "<folium.folium.Map at 0x74e6d1684810>"
      ]
     },
     "execution_count": 5,
     "metadata": {},
     "output_type": "execute_result"
    }
   ],
   "source": [
    "\n",
    "posiciones_sate = []\n",
    "for minutos in range(-15, 45):\n",
    "    nueva_fecha = fecha + timedelta(minutes=minutos)\n",
    "    nueva_posicion = predictor.get_position(nueva_fecha)\n",
    "    posiciones_sate.append(nueva_posicion)\n",
    "\n",
    "draw_map(\n",
    "    line(posiciones_sate, color=\"green\", width=3),\n",
    ")"
   ]
  },
  {
   "cell_type": "code",
   "execution_count": 6,
   "id": "79119603-d816-4a53-baa9-59aa13b9092b",
   "metadata": {},
   "outputs": [
    {
     "data": {
      "text/html": [
       "<div style=\"width:100%;\"><div style=\"position:relative;width:100%;height:0;padding-bottom:60%;\"><span style=\"color:#565656\">Make this Notebook Trusted to load map: File -> Trust Notebook</span><iframe srcdoc=\"&lt;!DOCTYPE html&gt;\n",
       "&lt;html&gt;\n",
       "&lt;head&gt;\n",
       "    \n",
       "    &lt;meta http-equiv=&quot;content-type&quot; content=&quot;text/html; charset=UTF-8&quot; /&gt;\n",
       "    \n",
       "        &lt;script&gt;\n",
       "            L_NO_TOUCH = false;\n",
       "            L_DISABLE_3D = false;\n",
       "        &lt;/script&gt;\n",
       "    \n",
       "    &lt;style&gt;html, body {width: 100%;height: 100%;margin: 0;padding: 0;}&lt;/style&gt;\n",
       "    &lt;style&gt;#map {position:absolute;top:0;bottom:0;right:0;left:0;}&lt;/style&gt;\n",
       "    &lt;script src=&quot;https://cdn.jsdelivr.net/npm/leaflet@1.9.3/dist/leaflet.js&quot;&gt;&lt;/script&gt;\n",
       "    &lt;script src=&quot;https://code.jquery.com/jquery-3.7.1.min.js&quot;&gt;&lt;/script&gt;\n",
       "    &lt;script src=&quot;https://cdn.jsdelivr.net/npm/bootstrap@5.2.2/dist/js/bootstrap.bundle.min.js&quot;&gt;&lt;/script&gt;\n",
       "    &lt;script src=&quot;https://cdnjs.cloudflare.com/ajax/libs/Leaflet.awesome-markers/2.0.2/leaflet.awesome-markers.js&quot;&gt;&lt;/script&gt;\n",
       "    &lt;link rel=&quot;stylesheet&quot; href=&quot;https://cdn.jsdelivr.net/npm/leaflet@1.9.3/dist/leaflet.css&quot;/&gt;\n",
       "    &lt;link rel=&quot;stylesheet&quot; href=&quot;https://cdn.jsdelivr.net/npm/bootstrap@5.2.2/dist/css/bootstrap.min.css&quot;/&gt;\n",
       "    &lt;link rel=&quot;stylesheet&quot; href=&quot;https://netdna.bootstrapcdn.com/bootstrap/3.0.0/css/bootstrap-glyphicons.css&quot;/&gt;\n",
       "    &lt;link rel=&quot;stylesheet&quot; href=&quot;https://cdn.jsdelivr.net/npm/@fortawesome/fontawesome-free@6.2.0/css/all.min.css&quot;/&gt;\n",
       "    &lt;link rel=&quot;stylesheet&quot; href=&quot;https://cdnjs.cloudflare.com/ajax/libs/Leaflet.awesome-markers/2.0.2/leaflet.awesome-markers.css&quot;/&gt;\n",
       "    &lt;link rel=&quot;stylesheet&quot; href=&quot;https://cdn.jsdelivr.net/gh/python-visualization/folium/folium/templates/leaflet.awesome.rotate.min.css&quot;/&gt;\n",
       "    \n",
       "            &lt;meta name=&quot;viewport&quot; content=&quot;width=device-width,\n",
       "                initial-scale=1.0, maximum-scale=1.0, user-scalable=no&quot; /&gt;\n",
       "            &lt;style&gt;\n",
       "                #map_26572511995c27a86d9eeee75c717cb6 {\n",
       "                    position: relative;\n",
       "                    width: 100.0%;\n",
       "                    height: 100.0%;\n",
       "                    left: 0.0%;\n",
       "                    top: 0.0%;\n",
       "                }\n",
       "                .leaflet-container { font-size: 1rem; }\n",
       "            &lt;/style&gt;\n",
       "        \n",
       "&lt;/head&gt;\n",
       "&lt;body&gt;\n",
       "    \n",
       "    \n",
       "            &lt;div class=&quot;folium-map&quot; id=&quot;map_26572511995c27a86d9eeee75c717cb6&quot; &gt;&lt;/div&gt;\n",
       "        \n",
       "&lt;/body&gt;\n",
       "&lt;script&gt;\n",
       "    \n",
       "    \n",
       "            var map_26572511995c27a86d9eeee75c717cb6 = L.map(\n",
       "                &quot;map_26572511995c27a86d9eeee75c717cb6&quot;,\n",
       "                {\n",
       "                    center: [0.0, 0.0],\n",
       "                    crs: L.CRS.EPSG3857,\n",
       "                    zoom: 1.5,\n",
       "                    zoomControl: true,\n",
       "                    preferCanvas: false,\n",
       "                }\n",
       "            );\n",
       "\n",
       "            \n",
       "\n",
       "        \n",
       "    \n",
       "            var tile_layer_7efc342844534ac98e5a4042189abdcb = L.tileLayer(\n",
       "                &quot;https://{s}.basemaps.cartocdn.com/light_all/{z}/{x}/{y}{r}.png&quot;,\n",
       "                {&quot;attribution&quot;: &quot;.&quot;, &quot;detectRetina&quot;: false, &quot;maxNativeZoom&quot;: 20, &quot;maxZoom&quot;: 20, &quot;minZoom&quot;: 0, &quot;noWrap&quot;: false, &quot;opacity&quot;: 1, &quot;subdomains&quot;: &quot;abcd&quot;, &quot;tms&quot;: false}\n",
       "            );\n",
       "        \n",
       "    \n",
       "            tile_layer_7efc342844534ac98e5a4042189abdcb.addTo(map_26572511995c27a86d9eeee75c717cb6);\n",
       "        \n",
       "    \n",
       "            var poly_line_70cbd1921d6f718acce3a6dae4a7c589 = L.polyline(\n",
       "                [[19.33604307245465, -90.47606236494374], [16.863541700824886, -87.61652123429289], [14.34517455876432, -84.83802389692535], [11.78911551589204, -82.12744779714536], [9.203020195356448, -79.47200107166383], [6.5941236985118605, -76.85920870050556], [3.9693356429053077, -74.27686974524012], [1.3353322993371128, -71.7129950434898], [-1.3013537697939395, -69.15573247948905], [-3.9342457840669782, -66.59328545227028], [-6.556835535468213, -64.01382939637678], [-9.162495835382805, -61.40542973627486], [-11.744391623719823, -58.7559684051588], [-14.295388951286283, -56.05308103687229], [-16.807961421177662, -53.28411420847143], [-19.27409426950051, -50.43611068503529], [-21.685187152527796, -47.49583446951745], [-24.031957977658156, -44.44985053317824], [-26.30435187061444, -41.28467770671935], [-28.491461701579443, -37.987036538266366], [-30.58146953696053, -34.54421613063046], [-32.5616218578856, -30.944583543667683], [-34.41825508125475, -27.1782524721227], [-36.13689116701169, -23.237917727226648], [-37.702424742912875, -19.11983144278175], [-39.09942157167176, -14.824865457483705], [-40.31254135629599, -10.359552721025542], [-41.32708417410884, -5.736951003551005], [-42.12963894355414, -0.9771345293107883], [-42.708786580167136, 3.8928835643179682], [-43.05578559231868, 8.839942943788055], [-43.165152167189355, 13.826274275891311], [-43.035048513922355, 18.811662228476735], [-42.667416250321295, 23.755962689429452], [-42.06783226290515, 28.62160804212383], [-41.245111748814026, 33.37574298081526], [-40.21072314032614, 37.99172383945947], [-38.97810161985177, 42.44986964915866], [-37.56194868128199, 46.737504530468556], [-35.977588873678854, 50.848440828511414], [-34.240429779134864, 54.7821011976297], [-32.365545700050916, 58.54247268524468], [-30.367384993463588, 62.13704712146423], [-28.25958765380621, 65.57585117227576], [-26.054893215371024, 68.87062162921413], [-23.76511763087502, 72.03414602186925], [-21.401179530583157, 75.0797609964122], [-18.9731595439656, 78.02099364963601], [-16.490380050421045, 80.87131971229063], [-13.961496170275245, 83.64401566544971], [-11.39459171615682, 86.35208294824093], [-8.797276122207291, 89.00822597647625], [-6.176780096058516, 91.62486925519522], [-3.5400489869597114, 94.21420208042454], [-0.8938337331717439, 96.78824195973705], [1.7552201677008263, 99.35890973523446], [4.400484860145175, 101.93811192562623], [7.0352625074839406, 104.53782302969142], [9.652696800004737, 107.17016657391729], [12.245682641280244, 109.8474873914281]],\n",
       "                {&quot;bubblingMouseEvents&quot;: true, &quot;color&quot;: &quot;green&quot;, &quot;dashArray&quot;: null, &quot;dashOffset&quot;: null, &quot;fill&quot;: false, &quot;fillColor&quot;: &quot;green&quot;, &quot;fillOpacity&quot;: 0.2, &quot;fillRule&quot;: &quot;evenodd&quot;, &quot;lineCap&quot;: &quot;round&quot;, &quot;lineJoin&quot;: &quot;round&quot;, &quot;noClip&quot;: false, &quot;opacity&quot;: 1, &quot;smoothFactor&quot;: 1.0, &quot;stroke&quot;: true, &quot;weight&quot;: 3}\n",
       "            ).addTo(map_26572511995c27a86d9eeee75c717cb6);\n",
       "        \n",
       "    \n",
       "            var circle_marker_1531fdbe2cb01d0c9153962f0cb32a28 = L.circleMarker(\n",
       "                [-31.2254, -61.507],\n",
       "                {&quot;bubblingMouseEvents&quot;: true, &quot;color&quot;: &quot;red&quot;, &quot;dashArray&quot;: null, &quot;dashOffset&quot;: null, &quot;fill&quot;: true, &quot;fillColor&quot;: &quot;red&quot;, &quot;fillOpacity&quot;: 1, &quot;fillRule&quot;: &quot;evenodd&quot;, &quot;lineCap&quot;: &quot;round&quot;, &quot;lineJoin&quot;: &quot;round&quot;, &quot;opacity&quot;: 1.0, &quot;radius&quot;: 7, &quot;stroke&quot;: true, &quot;weight&quot;: 0}\n",
       "            ).addTo(map_26572511995c27a86d9eeee75c717cb6);\n",
       "        \n",
       "&lt;/script&gt;\n",
       "&lt;/html&gt;\" style=\"position:absolute;width:100%;height:100%;left:0;top:0;border:none !important;\" allowfullscreen webkitallowfullscreen mozallowfullscreen></iframe></div></div>"
      ],
      "text/plain": [
       "<folium.folium.Map at 0x74e6d15e6c10>"
      ]
     },
     "execution_count": 6,
     "metadata": {},
     "output_type": "execute_result"
    }
   ],
   "source": [
    "\n",
    "\n",
    "lugar = Location(\"itec\", -31.2254, -61.5070, 0)\n",
    "\n",
    "draw_map(\n",
    "    line(posiciones_sate, color=\"green\", width=3),\n",
    "    dot(lugar, color=\"red\", radius=7),\n",
    ")"
   ]
  },
  {
   "cell_type": "code",
   "execution_count": 7,
   "id": "5e7fbcdb-0247-4134-9204-16a5a31fc2d7",
   "metadata": {},
   "outputs": [],
   "source": [
    "\n",
    "\n",
    "pasada = predictor.get_next_pass(lugar, fecha)"
   ]
  },
  {
   "cell_type": "code",
   "execution_count": 8,
   "id": "c5b41ad4-f6a0-4a64-a157-f05986d88ef5",
   "metadata": {},
   "outputs": [
    {
     "data": {
      "text/plain": [
       "datetime.datetime(2024, 10, 5, 11, 56, 20, 802581)"
      ]
     },
     "execution_count": 8,
     "metadata": {},
     "output_type": "execute_result"
    }
   ],
   "source": [
    "pasada.aos"
   ]
  },
  {
   "cell_type": "code",
   "execution_count": 9,
   "id": "1506ea2e-eecd-4c31-931c-5bfdd02c5d16",
   "metadata": {},
   "outputs": [
    {
     "data": {
      "text/plain": [
       "datetime.datetime(2024, 10, 5, 12, 4, 18, 223747)"
      ]
     },
     "execution_count": 9,
     "metadata": {},
     "output_type": "execute_result"
    }
   ],
   "source": [
    "pasada.los"
   ]
  },
  {
   "cell_type": "code",
   "execution_count": 10,
   "id": "753fddbc-2189-4b55-958d-0b14795ef820",
   "metadata": {},
   "outputs": [
    {
     "data": {
      "text/plain": [
       "datetime.datetime(2024, 10, 5, 12, 0, 17, 648238)"
      ]
     },
     "execution_count": 10,
     "metadata": {},
     "output_type": "execute_result"
    }
   ],
   "source": [
    "pasada.max_elevation_date"
   ]
  },
  {
   "cell_type": "code",
   "execution_count": 11,
   "id": "024761bb-fff8-4718-b40a-991072c5aa46",
   "metadata": {},
   "outputs": [
    {
     "data": {
      "text/plain": [
       "6.694931227603865"
      ]
     },
     "execution_count": 11,
     "metadata": {},
     "output_type": "execute_result"
    }
   ],
   "source": [
    "pasada.max_elevation_deg"
   ]
  },
  {
   "cell_type": "code",
   "execution_count": 12,
   "id": "f08b5665-9cb0-4dcb-868e-0c4f8fa99d00",
   "metadata": {},
   "outputs": [],
   "source": [
    "\n",
    "pasada = predictor.get_next_pass(\n",
    "    lugar, fecha, max_elevation_gt=45,\n",
    ")"
   ]
  },
  {
   "cell_type": "code",
   "execution_count": 13,
   "id": "c7c5870c-c309-4a6f-b9c8-7c466428d900",
   "metadata": {},
   "outputs": [
    {
     "data": {
      "text/plain": [
       "datetime.datetime(2024, 10, 5, 13, 32, 12, 2572)"
      ]
     },
     "execution_count": 13,
     "metadata": {},
     "output_type": "execute_result"
    }
   ],
   "source": [
    "pasada.aos"
   ]
  },
  {
   "cell_type": "code",
   "execution_count": 14,
   "id": "b85cdd71-0a65-4831-8e3e-0edc87ab96fd",
   "metadata": {},
   "outputs": [
    {
     "data": {
      "text/plain": [
       "datetime.datetime(2024, 10, 5, 13, 43, 45, 755204)"
      ]
     },
     "execution_count": 14,
     "metadata": {},
     "output_type": "execute_result"
    }
   ],
   "source": [
    "pasada.los"
   ]
  },
  {
   "cell_type": "code",
   "execution_count": 15,
   "id": "3424f6b6-30cb-49c2-8762-ea3c8c424cfb",
   "metadata": {},
   "outputs": [
    {
     "data": {
      "text/html": [
       "<div style=\"width:100%;\"><div style=\"position:relative;width:100%;height:0;padding-bottom:60%;\"><span style=\"color:#565656\">Make this Notebook Trusted to load map: File -> Trust Notebook</span><iframe srcdoc=\"&lt;!DOCTYPE html&gt;\n",
       "&lt;html&gt;\n",
       "&lt;head&gt;\n",
       "    \n",
       "    &lt;meta http-equiv=&quot;content-type&quot; content=&quot;text/html; charset=UTF-8&quot; /&gt;\n",
       "    \n",
       "        &lt;script&gt;\n",
       "            L_NO_TOUCH = false;\n",
       "            L_DISABLE_3D = false;\n",
       "        &lt;/script&gt;\n",
       "    \n",
       "    &lt;style&gt;html, body {width: 100%;height: 100%;margin: 0;padding: 0;}&lt;/style&gt;\n",
       "    &lt;style&gt;#map {position:absolute;top:0;bottom:0;right:0;left:0;}&lt;/style&gt;\n",
       "    &lt;script src=&quot;https://cdn.jsdelivr.net/npm/leaflet@1.9.3/dist/leaflet.js&quot;&gt;&lt;/script&gt;\n",
       "    &lt;script src=&quot;https://code.jquery.com/jquery-3.7.1.min.js&quot;&gt;&lt;/script&gt;\n",
       "    &lt;script src=&quot;https://cdn.jsdelivr.net/npm/bootstrap@5.2.2/dist/js/bootstrap.bundle.min.js&quot;&gt;&lt;/script&gt;\n",
       "    &lt;script src=&quot;https://cdnjs.cloudflare.com/ajax/libs/Leaflet.awesome-markers/2.0.2/leaflet.awesome-markers.js&quot;&gt;&lt;/script&gt;\n",
       "    &lt;link rel=&quot;stylesheet&quot; href=&quot;https://cdn.jsdelivr.net/npm/leaflet@1.9.3/dist/leaflet.css&quot;/&gt;\n",
       "    &lt;link rel=&quot;stylesheet&quot; href=&quot;https://cdn.jsdelivr.net/npm/bootstrap@5.2.2/dist/css/bootstrap.min.css&quot;/&gt;\n",
       "    &lt;link rel=&quot;stylesheet&quot; href=&quot;https://netdna.bootstrapcdn.com/bootstrap/3.0.0/css/bootstrap-glyphicons.css&quot;/&gt;\n",
       "    &lt;link rel=&quot;stylesheet&quot; href=&quot;https://cdn.jsdelivr.net/npm/@fortawesome/fontawesome-free@6.2.0/css/all.min.css&quot;/&gt;\n",
       "    &lt;link rel=&quot;stylesheet&quot; href=&quot;https://cdnjs.cloudflare.com/ajax/libs/Leaflet.awesome-markers/2.0.2/leaflet.awesome-markers.css&quot;/&gt;\n",
       "    &lt;link rel=&quot;stylesheet&quot; href=&quot;https://cdn.jsdelivr.net/gh/python-visualization/folium/folium/templates/leaflet.awesome.rotate.min.css&quot;/&gt;\n",
       "    \n",
       "            &lt;meta name=&quot;viewport&quot; content=&quot;width=device-width,\n",
       "                initial-scale=1.0, maximum-scale=1.0, user-scalable=no&quot; /&gt;\n",
       "            &lt;style&gt;\n",
       "                #map_57daa64d3186185e92ee3f56cf8d2f90 {\n",
       "                    position: relative;\n",
       "                    width: 100.0%;\n",
       "                    height: 100.0%;\n",
       "                    left: 0.0%;\n",
       "                    top: 0.0%;\n",
       "                }\n",
       "                .leaflet-container { font-size: 1rem; }\n",
       "            &lt;/style&gt;\n",
       "        \n",
       "&lt;/head&gt;\n",
       "&lt;body&gt;\n",
       "    \n",
       "    \n",
       "            &lt;div class=&quot;folium-map&quot; id=&quot;map_57daa64d3186185e92ee3f56cf8d2f90&quot; &gt;&lt;/div&gt;\n",
       "        \n",
       "&lt;/body&gt;\n",
       "&lt;script&gt;\n",
       "    \n",
       "    \n",
       "            var map_57daa64d3186185e92ee3f56cf8d2f90 = L.map(\n",
       "                &quot;map_57daa64d3186185e92ee3f56cf8d2f90&quot;,\n",
       "                {\n",
       "                    center: [0.0, 0.0],\n",
       "                    crs: L.CRS.EPSG3857,\n",
       "                    zoom: 1.5,\n",
       "                    zoomControl: true,\n",
       "                    preferCanvas: false,\n",
       "                }\n",
       "            );\n",
       "\n",
       "            \n",
       "\n",
       "        \n",
       "    \n",
       "            var tile_layer_26db72746fd279f11d56aef8b7842e74 = L.tileLayer(\n",
       "                &quot;https://{s}.basemaps.cartocdn.com/light_all/{z}/{x}/{y}{r}.png&quot;,\n",
       "                {&quot;attribution&quot;: &quot;.&quot;, &quot;detectRetina&quot;: false, &quot;maxNativeZoom&quot;: 20, &quot;maxZoom&quot;: 20, &quot;minZoom&quot;: 0, &quot;noWrap&quot;: false, &quot;opacity&quot;: 1, &quot;subdomains&quot;: &quot;abcd&quot;, &quot;tms&quot;: false}\n",
       "            );\n",
       "        \n",
       "    \n",
       "            tile_layer_26db72746fd279f11d56aef8b7842e74.addTo(map_57daa64d3186185e92ee3f56cf8d2f90);\n",
       "        \n",
       "    \n",
       "            var circle_marker_1bddc82aae7a9e6ccef320d5432a38fc = L.circleMarker(\n",
       "                [-29.495047108053754, -60.176079967862],\n",
       "                {&quot;bubblingMouseEvents&quot;: true, &quot;color&quot;: &quot;green&quot;, &quot;dashArray&quot;: null, &quot;dashOffset&quot;: null, &quot;fill&quot;: true, &quot;fillColor&quot;: &quot;green&quot;, &quot;fillOpacity&quot;: 1, &quot;fillRule&quot;: &quot;evenodd&quot;, &quot;lineCap&quot;: &quot;round&quot;, &quot;lineJoin&quot;: &quot;round&quot;, &quot;opacity&quot;: 1.0, &quot;radius&quot;: 7, &quot;stroke&quot;: true, &quot;weight&quot;: 0}\n",
       "            ).addTo(map_57daa64d3186185e92ee3f56cf8d2f90);\n",
       "        \n",
       "    \n",
       "            var circle_marker_bbe0ddd2cc7a20946256773d569ee577 = L.circleMarker(\n",
       "                [-31.2254, -61.507],\n",
       "                {&quot;bubblingMouseEvents&quot;: true, &quot;color&quot;: &quot;red&quot;, &quot;dashArray&quot;: null, &quot;dashOffset&quot;: null, &quot;fill&quot;: true, &quot;fillColor&quot;: &quot;red&quot;, &quot;fillOpacity&quot;: 1, &quot;fillRule&quot;: &quot;evenodd&quot;, &quot;lineCap&quot;: &quot;round&quot;, &quot;lineJoin&quot;: &quot;round&quot;, &quot;opacity&quot;: 1.0, &quot;radius&quot;: 7, &quot;stroke&quot;: true, &quot;weight&quot;: 0}\n",
       "            ).addTo(map_57daa64d3186185e92ee3f56cf8d2f90);\n",
       "        \n",
       "&lt;/script&gt;\n",
       "&lt;/html&gt;\" style=\"position:absolute;width:100%;height:100%;left:0;top:0;border:none !important;\" allowfullscreen webkitallowfullscreen mozallowfullscreen></iframe></div></div>"
      ],
      "text/plain": [
       "<folium.folium.Map at 0x74e6d15446d0>"
      ]
     },
     "execution_count": 15,
     "metadata": {},
     "output_type": "execute_result"
    }
   ],
   "source": [
    "\n",
    "draw_map(\n",
    "    dot(pasada.max_elevation_position, color=\"green\", radius=7),\n",
    "    dot(lugar, color=\"red\", radius=7),\n",
    ")"
   ]
  }
 ],
 "metadata": {
  "kernelspec": {
   "display_name": "Python 3 (ipykernel)",
   "language": "python",
   "name": "python3"
  },
  "language_info": {
   "codemirror_mode": {
    "name": "ipython",
    "version": 3
   },
   "file_extension": ".py",
   "mimetype": "text/x-python",
   "name": "python",
   "nbconvert_exporter": "python",
   "pygments_lexer": "ipython3",
   "version": "3.11.6"
  }
 },
 "nbformat": 4,
 "nbformat_minor": 5
}
